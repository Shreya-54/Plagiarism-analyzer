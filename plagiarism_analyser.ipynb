# Import Libraries
import pandas as pd
from sklearn.feature_extraction.text import TfidfVectorizer
from sklearn.metrics.pairwise import cosine_similarity
import numpy as np

# Sample Dataset (academic texts)
texts = [
    "Deep learning techniques have revolutionized artificial intelligence.",
    "Artificial intelligence has been significantly advanced by deep learning techniques.",
    "The capital of France is Paris.",
    "Machine learning models can detect similarities in text documents."
]

# Data Preprocessing and TF-IDF Vectorization
vectorizer = TfidfVectorizer()
tfidf_matrix = vectorizer.fit_transform(texts)

# Compute Cosine Similarity
cos_sim = cosine_similarity(tfidf_matrix, tfidf_matrix)

# Display Similarity Matrix
similarity_df = pd.DataFrame(cos_sim, index=[f"Doc {i+1}" for i in range(len(texts))], columns=[f"Doc {i+1}" for i in range(len(texts))])
print(similarity_df)

# Thresholding for Plagiarism Detection
threshold = 0.7  # similarity above 70% is considered suspicious
suspicious_pairs = []

for i in range(len(texts)):
    for j in range(i+1, len(texts)):
        if cos_sim[i][j] > threshold:
            suspicious_pairs.append((f"Doc {i+1}", f"Doc {j+1}", cos_sim[i][j]))

print("\nPotential Plagiarism Cases:")
for pair in suspicious_pairs:
    print(pair)